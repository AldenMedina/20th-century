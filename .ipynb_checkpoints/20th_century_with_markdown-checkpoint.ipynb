{
 "cells": [
  {
   "cell_type": "code",
   "execution_count": 2,
   "id": "952ceb82-f676-42c2-bab8-cc971eee91df",
   "metadata": {},
   "outputs": [],
   "source": [
    "# Step 1: Import libraries\n",
    "import pandas as pd\n"
   ]
  },
  {
   "cell_type": "code",
   "execution_count": 3,
   "id": "04eb759f-7123-4bf9-8e3a-bb73486bb45b",
   "metadata": {},
   "outputs": [
    {
     "data": {
      "text/html": [
       "<div>\n",
       "<style scoped>\n",
       "    .dataframe tbody tr th:only-of-type {\n",
       "        vertical-align: middle;\n",
       "    }\n",
       "\n",
       "    .dataframe tbody tr th {\n",
       "        vertical-align: top;\n",
       "    }\n",
       "\n",
       "    .dataframe thead th {\n",
       "        text-align: right;\n",
       "    }\n",
       "</style>\n",
       "<table border=\"1\" class=\"dataframe\">\n",
       "  <thead>\n",
       "    <tr style=\"text-align: right;\">\n",
       "      <th></th>\n",
       "      <th>Name</th>\n",
       "      <th>Field</th>\n",
       "      <th>Impact</th>\n",
       "    </tr>\n",
       "  </thead>\n",
       "  <tbody>\n",
       "    <tr>\n",
       "      <th>0</th>\n",
       "      <td>Ada</td>\n",
       "      <td>Math</td>\n",
       "      <td>10</td>\n",
       "    </tr>\n",
       "    <tr>\n",
       "      <th>1</th>\n",
       "      <td>Grace</td>\n",
       "      <td>CS</td>\n",
       "      <td>20</td>\n",
       "    </tr>\n",
       "    <tr>\n",
       "      <th>2</th>\n",
       "      <td>Marie</td>\n",
       "      <td>Chemistry</td>\n",
       "      <td>30</td>\n",
       "    </tr>\n",
       "    <tr>\n",
       "      <th>3</th>\n",
       "      <td>Rosalind</td>\n",
       "      <td>Biology</td>\n",
       "      <td>40</td>\n",
       "    </tr>\n",
       "  </tbody>\n",
       "</table>\n",
       "</div>"
      ],
      "text/plain": [
       "       Name      Field  Impact\n",
       "0       Ada       Math      10\n",
       "1     Grace         CS      20\n",
       "2     Marie  Chemistry      30\n",
       "3  Rosalind    Biology      40"
      ]
     },
     "execution_count": 3,
     "metadata": {},
     "output_type": "execute_result"
    }
   ],
   "source": [
    "# Step 2: Create a test DataFrame\n",
    "data = pd.DataFrame({\n",
    "    \"Name\": ['Ada', 'Grace', 'Marie', 'Rosalind'],\n",
    "    \"Field\": ['Math', 'CS', 'Chemistry', 'Biology'],\n",
    "    \"Impact\": [10, 20, 30, 40]\n",
    "})\n",
    "data\n"
   ]
  },
  {
   "cell_type": "code",
   "execution_count": 4,
   "id": "a6279305-d9df-482b-a322-8c7fa0d14d61",
   "metadata": {},
   "outputs": [],
   "source": [
    "data['Impact_Double'] = data['Impact'].apply(lambda x: x * 2)\n"
   ]
  },
  {
   "cell_type": "code",
   "execution_count": 5,
   "id": "0dddbdf4-f84c-4de4-9485-bd638aebb78f",
   "metadata": {},
   "outputs": [],
   "source": [
    "data['Discipline'] = data['Field'].apply(\n",
    "    lambda x: 'STEM' if x in ['Math', 'CS'] else 'Science')\n"
   ]
  },
  {
   "cell_type": "code",
   "execution_count": 6,
   "id": "0df15311-6c60-44a3-9492-43a010888127",
   "metadata": {},
   "outputs": [
    {
     "data": {
      "text/html": [
       "<div>\n",
       "<style scoped>\n",
       "    .dataframe tbody tr th:only-of-type {\n",
       "        vertical-align: middle;\n",
       "    }\n",
       "\n",
       "    .dataframe tbody tr th {\n",
       "        vertical-align: top;\n",
       "    }\n",
       "\n",
       "    .dataframe thead th {\n",
       "        text-align: right;\n",
       "    }\n",
       "</style>\n",
       "<table border=\"1\" class=\"dataframe\">\n",
       "  <thead>\n",
       "    <tr style=\"text-align: right;\">\n",
       "      <th></th>\n",
       "      <th>Name</th>\n",
       "      <th>Field</th>\n",
       "      <th>Impact</th>\n",
       "      <th>Impact_Double</th>\n",
       "      <th>Discipline</th>\n",
       "    </tr>\n",
       "  </thead>\n",
       "  <tbody>\n",
       "    <tr>\n",
       "      <th>0</th>\n",
       "      <td>Ada</td>\n",
       "      <td>Math</td>\n",
       "      <td>10</td>\n",
       "      <td>20</td>\n",
       "      <td>STEM</td>\n",
       "    </tr>\n",
       "    <tr>\n",
       "      <th>1</th>\n",
       "      <td>Grace</td>\n",
       "      <td>CS</td>\n",
       "      <td>20</td>\n",
       "      <td>40</td>\n",
       "      <td>STEM</td>\n",
       "    </tr>\n",
       "    <tr>\n",
       "      <th>2</th>\n",
       "      <td>Marie</td>\n",
       "      <td>Chemistry</td>\n",
       "      <td>30</td>\n",
       "      <td>60</td>\n",
       "      <td>Science</td>\n",
       "    </tr>\n",
       "    <tr>\n",
       "      <th>3</th>\n",
       "      <td>Rosalind</td>\n",
       "      <td>Biology</td>\n",
       "      <td>40</td>\n",
       "      <td>80</td>\n",
       "      <td>Science</td>\n",
       "    </tr>\n",
       "  </tbody>\n",
       "</table>\n",
       "</div>"
      ],
      "text/plain": [
       "       Name      Field  Impact  Impact_Double Discipline\n",
       "0       Ada       Math      10             20       STEM\n",
       "1     Grace         CS      20             40       STEM\n",
       "2     Marie  Chemistry      30             60    Science\n",
       "3  Rosalind    Biology      40             80    Science"
      ]
     },
     "execution_count": 6,
     "metadata": {},
     "output_type": "execute_result"
    }
   ],
   "source": [
    "data\n"
   ]
  },
  {
   "cell_type": "code",
   "execution_count": 9,
   "id": "14cbd68c-8559-4a09-94bc-fc9932f42e18",
   "metadata": {},
   "outputs": [
    {
     "name": "stdout",
     "output_type": "stream",
     "text": [
      "✅ Scraped and saved clean events.\n"
     ]
    }
   ],
   "source": [
    " import requests\n",
    "from bs4 import BeautifulSoup\n",
    "import pandas as pd\n",
    "\n",
    "## Step 1: Load the Wikipedia Page\n",
    "# Use `requests.get()` to download the HTML content from the Wikipedia page.\n",
    "\n",
    "url = \"https://en.wikipedia.org/wiki/20th_century\"\n",
    "response = requests.get(url)\n",
    "soup = BeautifulSoup(response.content, \"html.parser\")\n",
    "\n",
    "## Step 2: Locate Main Content Section\n",
    "# We isolate the `<div>` with class `mw-parser-output`, which holds the majority of Wikipedia article content.\n",
    "\n",
    "content_div = soup.find(\"div\", class_=\"mw-parser-output\")\n",
    "\n",
    "## Step 3: Extract and Clean Paragraphs\n",
    "# We extract `<p>` and `<li>` elements and clean them with `.get_text(strip=True)`. We use regex to remove unwanted references like `[1]`, `[edit]`, etc., and filter out short or navigation-related content.\n",
    "\n",
    "paragraphs = content_div.find_all(['p', 'li'])\n",
    "\n",
    "## Step 4: Save Cleaned Events\n",
    "# The cleaned event data is saved to `20th_century_cleaned_events.csv` for use in later NLP and visualization tasks.\n",
    "\n",
    "event_texts = []\n",
    "import re\n",
    "\n",
    "for para in paragraphs:\n",
    "    clean_text = para.get_text(strip=True)\n",
    "    clean_text = re.sub(r'\\[.*?\\]', '', clean_text)  # Removes [1], [edit], etc.\n",
    "    if len(clean_text) > 50 and not clean_text.lower().startswith(\"see also\"):\n",
    "        event_texts.append(clean_text)\n",
    "\n",
    "df = pd.DataFrame(event_texts, columns=[\"event\"])\n",
    "df.to_csv(\"20th_century_cleaned_events.csv\", index=False)\n",
    "\n",
    "print(\"✅ Scraped and saved clean events.\")\n"
   ]
  },
  {
   "cell_type": "code",
   "execution_count": null,
   "id": "3f8f6543-22fb-43e4-a6a0-f1a5453760b3",
   "metadata": {},
   "outputs": [],
   "source": []
  }
 ],
 "metadata": {
  "kernelspec": {
   "display_name": "Python 3 (ipykernel)",
   "language": "python",
   "name": "python3"
  },
  "language_info": {
   "codemirror_mode": {
    "name": "ipython",
    "version": 3
   },
   "file_extension": ".py",
   "mimetype": "text/x-python",
   "name": "python",
   "nbconvert_exporter": "python",
   "pygments_lexer": "ipython3",
   "version": "3.8.2"
  }
 },
 "nbformat": 4,
 "nbformat_minor": 5
}

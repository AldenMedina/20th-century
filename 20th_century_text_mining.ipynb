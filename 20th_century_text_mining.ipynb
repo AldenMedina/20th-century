{
 "cells": [
  {
   "cell_type": "code",
   "execution_count": 8,
   "id": "9b28ccad-53c1-4998-9a68-1e5545a7eddf",
   "metadata": {},
   "outputs": [
    {
     "name": "stderr",
     "output_type": "stream",
     "text": [
      "[nltk_data] Downloading package punkt to /Users/alden/nltk_data...\n",
      "[nltk_data]   Package punkt is already up-to-date!\n",
      "[nltk_data] Downloading package averaged_perceptron_tagger to\n",
      "[nltk_data]     /Users/alden/nltk_data...\n",
      "[nltk_data]   Package averaged_perceptron_tagger is already up-to-\n",
      "[nltk_data]       date!\n",
      "[nltk_data] Downloading package averaged_perceptron_tagger_eng to\n",
      "[nltk_data]     /Users/alden/nltk_data...\n",
      "[nltk_data]   Unzipping taggers/averaged_perceptron_tagger_eng.zip.\n",
      "[nltk_data] Downloading package stopwords to /Users/alden/nltk_data...\n",
      "[nltk_data]   Package stopwords is already up-to-date!\n"
     ]
    },
    {
     "data": {
      "text/plain": [
       "True"
      ]
     },
     "execution_count": 8,
     "metadata": {},
     "output_type": "execute_result"
    }
   ],
   "source": [
    "# Install (if needed)\n",
    "# !pip install nltk pandas matplotlib seaborn\n",
    "\n",
    "# --- IMPORTS ---\n",
    "import pandas as pd\n",
    "import matplotlib.pyplot as plt\n",
    "import seaborn as sns\n",
    "import nltk\n",
    "from nltk.tokenize import word_tokenize\n",
    "from nltk import pos_tag\n",
    "from nltk.corpus import stopwords\n",
    "\n",
    "# --- FIXED: NLTK DOWNLOADS ---\n",
    "import nltk\n",
    "nltk.download(\"punkt\")\n",
    "nltk.download(\"averaged_perceptron_tagger\")\n",
    "nltk.download(\"averaged_perceptron_tagger_eng\")  # 👈 NEW!\n",
    "nltk.download(\"stopwords\")\n",
    "\n"
   ]
  },
  {
   "cell_type": "code",
   "execution_count": 3,
   "id": "3ae0ed56-82c7-446a-b1fc-11de089a365a",
   "metadata": {},
   "outputs": [
    {
     "name": "stdout",
     "output_type": "stream",
     "text": [
      "✅ Loaded event data:\n"
     ]
    },
    {
     "data": {
      "text/html": [
       "<div>\n",
       "<style scoped>\n",
       "    .dataframe tbody tr th:only-of-type {\n",
       "        vertical-align: middle;\n",
       "    }\n",
       "\n",
       "    .dataframe tbody tr th {\n",
       "        vertical-align: top;\n",
       "    }\n",
       "\n",
       "    .dataframe thead th {\n",
       "        text-align: right;\n",
       "    }\n",
       "</style>\n",
       "<table border=\"1\" class=\"dataframe\">\n",
       "  <thead>\n",
       "    <tr style=\"text-align: right;\">\n",
       "      <th></th>\n",
       "      <th>event</th>\n",
       "    </tr>\n",
       "  </thead>\n",
       "  <tbody>\n",
       "    <tr>\n",
       "      <th>0</th>\n",
       "      <td>The20th centurywas the century that began on  ...</td>\n",
       "    </tr>\n",
       "    <tr>\n",
       "      <th>1</th>\n",
       "      <td>The 20th century was dominated by significant ...</td>\n",
       "    </tr>\n",
       "    <tr>\n",
       "      <th>2</th>\n",
       "      <td>Major themes of the century includeddecoloniza...</td>\n",
       "    </tr>\n",
       "    <tr>\n",
       "      <th>3</th>\n",
       "      <td>At the beginning of the period, theBritish Emp...</td>\n",
       "    </tr>\n",
       "    <tr>\n",
       "      <th>4</th>\n",
       "      <td>Technological advancements duringWorld War Ich...</td>\n",
       "    </tr>\n",
       "  </tbody>\n",
       "</table>\n",
       "</div>"
      ],
      "text/plain": [
       "                                               event\n",
       "0  The20th centurywas the century that began on  ...\n",
       "1  The 20th century was dominated by significant ...\n",
       "2  Major themes of the century includeddecoloniza...\n",
       "3  At the beginning of the period, theBritish Emp...\n",
       "4  Technological advancements duringWorld War Ich..."
      ]
     },
     "execution_count": 3,
     "metadata": {},
     "output_type": "execute_result"
    }
   ],
   "source": [
    "# --- LOAD DATA ---\n",
    "df = pd.read_csv(\"20th_century_cleaned_events.csv\")\n",
    "\n",
    "# Preview\n",
    "print(\"✅ Loaded event data:\")\n",
    "df.head()\n",
    "\n"
   ]
  },
  {
   "cell_type": "code",
   "execution_count": 6,
   "id": "5343a5c3-62d8-4d17-b7a3-ec40ddbcc730",
   "metadata": {},
   "outputs": [
    {
     "name": "stdout",
     "output_type": "stream",
     "text": [
      "✅ Tokens preview: ['centurywas', 'the', 'century', 'that', 'began', 'on', 'mcmi', 'and', 'ended', 'on', 'mm', 'was', 'the', 'and', 'last']\n"
     ]
    }
   ],
   "source": [
    "# --- JOIN ALL EVENTS TOGETHER ---\n",
    "text = \" \".join(df[\"event\"].astype(str).tolist())\n",
    "\n",
    "# --- TOKENIZE WORDS ---\n",
    "tokens = word_tokenize(text)\n",
    "tokens = [t.lower() for t in tokens if t.isalpha()]\n",
    "\n",
    "# Show sample\n",
    "print(\"✅ Tokens preview:\", tokens[:15])\n"
   ]
  },
  {
   "cell_type": "code",
   "execution_count": 9,
   "id": "a15ba99c-16e7-483f-8631-4be704aa49f2",
   "metadata": {},
   "outputs": [
    {
     "name": "stderr",
     "output_type": "stream",
     "text": [
      "[nltk_data] Downloading package punkt to /Users/alden/nltk_data...\n",
      "[nltk_data]   Package punkt is already up-to-date!\n",
      "[nltk_data] Downloading package averaged_perceptron_tagger to\n",
      "[nltk_data]     /Users/alden/nltk_data...\n",
      "[nltk_data]   Package averaged_perceptron_tagger is already up-to-\n",
      "[nltk_data]       date!\n",
      "[nltk_data] Downloading package stopwords to /Users/alden/nltk_data...\n",
      "[nltk_data]   Package stopwords is already up-to-date!\n"
     ]
    },
    {
     "name": "stdout",
     "output_type": "stream",
     "text": [
      "✅ Loaded event data:\n",
      "                                               event\n",
      "0  The20th centurywas the century that began on  ...\n",
      "1  The 20th century was dominated by significant ...\n",
      "2  Major themes of the century includeddecoloniza...\n",
      "3  At the beginning of the period, theBritish Emp...\n",
      "4  Technological advancements duringWorld War Ich...\n",
      "\n",
      "✅ POS sample:\n",
      "         word  pos\n",
      "0  centurywas   JJ\n",
      "1     century   NN\n",
      "2       began  VBD\n",
      "3        mcmi   RB\n",
      "4       ended  VBN\n"
     ]
    },
    {
     "data": {
      "image/png": "[encoded data removed]",
      "text/plain": [
       "<Figure size 1000x500 with 1 Axes>"
      ]
     },
     "metadata": {},
     "output_type": "display_data"
    },
    {
     "name": "stdout",
     "output_type": "stream",
     "text": [
      "\n",
      "📦 Top 10 Nouns:\n",
      "world: 75\n",
      "century: 70\n",
      "war: 49\n",
      "states: 30\n",
      "people: 22\n",
      "music: 17\n",
      "union: 16\n",
      "history: 16\n",
      "countries: 15\n",
      "system: 13\n"
     ]
    }
   ],
   "source": [
    "# --- INSTALL IF NEEDED ---\n",
    "# !pip install nltk pandas matplotlib seaborn\n",
    "\n",
    "# --- IMPORTS ---\n",
    "import pandas as pd\n",
    "import matplotlib.pyplot as plt\n",
    "import seaborn as sns\n",
    "import nltk\n",
    "from nltk import word_tokenize, pos_tag\n",
    "from nltk.corpus import stopwords\n",
    "from collections import Counter\n",
    "\n",
    "# --- DOWNLOAD NLTK DATA ---\n",
    "nltk.download(\"punkt\")\n",
    "nltk.download(\"averaged_perceptron_tagger\")\n",
    "nltk.download(\"stopwords\")\n",
    "\n",
    "# --- LOAD DATA ---\n",
    "df = pd.read_csv(\"20th_century_cleaned_events.csv\")\n",
    "print(\"✅ Loaded event data:\")\n",
    "print(df.head())\n",
    "\n",
    "# --- JOIN ALL EVENTS TOGETHER ---\n",
    "text = \" \".join(df[\"event\"].astype(str).tolist())\n",
    "\n",
    "# --- TOKENIZE WORDS ---\n",
    "tokens = word_tokenize(text)\n",
    "tokens = [t.lower() for t in tokens if t.isalpha()]\n",
    "\n",
    "# --- REMOVE STOPWORDS ---\n",
    "stop_words = set(stopwords.words(\"english\"))\n",
    "filtered_tokens = [t for t in tokens if t not in stop_words]\n",
    "\n",
    "# --- POS TAGGING ---\n",
    "pos_tags = pos_tag(filtered_tokens)\n",
    "\n",
    "# --- CREATE DF FROM TAGS ---\n",
    "pos_df = pd.DataFrame(pos_tags, columns=[\"word\", \"pos\"])\n",
    "print(\"\\n✅ POS sample:\")\n",
    "print(pos_df.head())\n",
    "\n",
    "# --- COUNT TOP POS TYPES ---\n",
    "top_pos = pos_df[\"pos\"].value_counts().head(10)\n",
    "\n",
    "# --- PLOT ---\n",
    "plt.figure(figsize=(10, 5))\n",
    "sns.barplot(x=top_pos.index, y=top_pos.values)\n",
    "plt.title(\"Top 10 POS Tag Frequencies\")\n",
    "plt.xlabel(\"POS Tag\")\n",
    "plt.ylabel(\"Count\")\n",
    "plt.tight_layout()\n",
    "plt.show()\n",
    "\n",
    "# --- MOST COMMON NOUNS ---\n",
    "nouns = pos_df[pos_df[\"pos\"].str.startswith(\"NN\")][\"word\"]\n",
    "top_nouns = Counter(nouns).most_common(10)\n",
    "\n",
    "print(\"\\n📦 Top 10 Nouns:\")\n",
    "for word, count in top_nouns:\n",
    "    print(f\"{word}: {count}\")\n"
   ]
  },
  {
   "cell_type": "markdown",
   "id": "f5d3a488-89bc-4806-87dc-72f4ea9e0b5f",
   "metadata": {},
   "source": [
    "## 🧠 Task 1.5 – POS Tagging & Analysis\n",
    "\n",
    "In this task, I performed tokenization, removed stopwords, and applied POS tagging using NLTK. The analysis focused on identifying the most frequent part-of-speech (POS) tags and extracting the most common nouns from the event descriptions.\n",
    "\n",
    "### 📊 Top 10 POS Tags\n",
    "The bar chart illustrates the 10 most frequent POS tags. The majority were:\n",
    "\n",
    "- `NN` (Singular Nouns)\n",
    "- `JJ` (Adjectives)\n",
    "- `NNS` (Plural Nouns)\n",
    "- Various verb forms like `VBD`, `VBP`, `VBN`, etc.\n",
    "\n",
    "This distribution aligns with the expected structure of historical event descriptions, which tend to emphasize concrete nouns and descriptive phrases.\n",
    "\n",
    "### 📦 Top 10 Most Frequent Nouns\n",
    "\n",
    "| Noun       | Count |\n",
    "|------------|-------|\n",
    "| world      | 75    |\n",
    "| century    | 70    |\n",
    "| war        | 49    |\n",
    "| states     | 30    |\n",
    "| people     | 22    |\n",
    "| music      | 17    |\n",
    "| union      | 16    |\n",
    "| history    | 16    |\n",
    "| countries  | 15    |\n",
    "| system     | 13    |\n",
    "\n",
    "These nouns reflect the major historical themes present in 20th-century discourse — such as geopolitics, societal change, and cultural evolution.\n",
    "\n",
    "### ✅ Reflection\n",
    "The high frequency of terms like *world*, *war*, *century*, and *states* reinforces the global and political focus of the dataset. Additionally, terms like *music* and *people* reveal some attention to culture and society.\n",
    "\n",
    "---\n",
    "\n"
   ]
  },
  {
   "cell_type": "code",
   "execution_count": null,
   "id": "0973f212-f04d-4856-85a3-20628ae7fd45",
   "metadata": {},
   "outputs": [],
   "source": []
  }
 ],
 "metadata": {
  "kernelspec": {
   "display_name": "Python 3 (ipykernel)",
   "language": "python",
   "name": "python3"
  },
  "language_info": {
   "codemirror_mode": {
    "name": "ipython",
    "version": 3
   },
   "file_extension": ".py",
   "mimetype": "text/x-python",
   "name": "python",
   "nbconvert_exporter": "python",
   "pygments_lexer": "ipython3",
   "version": "3.8.2"
  }
 },
 "nbformat": 4,
 "nbformat_minor": 5
}

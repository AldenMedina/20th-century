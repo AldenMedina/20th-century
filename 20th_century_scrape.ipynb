{
 "cells": [
  {
   "cell_type": "code",
   "execution_count": 2,
   "id": "71a8b22a-edf8-4048-97c1-6ac58fbfd0ae",
   "metadata": {},
   "outputs": [
    {
     "name": "stderr",
     "output_type": "stream",
     "text": [
      "Matplotlib is building the font cache; this may take a moment.\n"
     ]
    }
   ],
   "source": [
    "import pandas as pd\n",
    "import requests\n",
    "from bs4 import BeautifulSoup\n",
    "from selenium import webdriver\n",
    "from selenium.webdriver.chrome.service import Service\n",
    "from selenium.webdriver.common.by import By\n",
    "from webdriver_manager.chrome import ChromeDriverManager\n",
    "import matplotlib.pyplot as plt\n"
   ]
  },
  {
   "cell_type": "code",
   "execution_count": 3,
   "id": "238b0f5e-2c58-4a8d-8497-a9d0ebeeb913",
   "metadata": {},
   "outputs": [],
   "source": [
    "# Step 1: Set up the Chrome driver\n",
    "from selenium.webdriver.chrome.service import Service\n",
    "from selenium.webdriver.chrome.options import Options\n",
    "\n",
    "options = Options()\n",
    "options.add_argument('--headless')  # Runs Chrome in the background\n",
    "options.add_argument('--no-sandbox')\n",
    "options.add_argument('--disable-dev-shm-usage')\n",
    "\n",
    "# Set up the driver\n",
    "service = Service(ChromeDriverManager().install())\n",
    "driver = webdriver.Chrome(service=service, options=options)\n"
   ]
  },
  {
   "cell_type": "code",
   "execution_count": 4,
   "id": "0f6f76ab-34df-4008-b9c7-2a824c535f3f",
   "metadata": {},
   "outputs": [],
   "source": [
    "# Step 2: Load the Wikipedia page\n",
    "url = \"https://en.wikipedia.org/wiki/Timeline_of_the_20th_century\"\n",
    "driver.get(url)\n"
   ]
  },
  {
   "cell_type": "code",
   "execution_count": 5,
   "id": "cccf1dad-7315-4acc-b899-b6fdd38773f3",
   "metadata": {},
   "outputs": [],
   "source": [
    "# Step 3: Use BeautifulSoup to parse the page\n",
    "soup = BeautifulSoup(driver.page_source, 'html.parser')\n",
    "\n"
   ]
  },
  {
   "cell_type": "code",
   "execution_count": 6,
   "id": "8b9f2d13-738a-4d1f-ab45-ccac34cb438b",
   "metadata": {},
   "outputs": [],
   "source": [
    "# Extract all the visible text from the page\n",
    "text = soup.get_text()\n",
    "\n",
    "# Encode it to handle characters\n",
    "text = text.encode('utf-8')\n",
    "\n",
    "# Save it as a .txt file in your working directory\n",
    "with open('20th_century_wiki.txt', 'wb') as f:\n",
    "    f.write(text)\n"
   ]
  },
  {
   "cell_type": "code",
   "execution_count": null,
   "id": "263ab2a5-da42-41cf-bf0d-a627cd0f9e1b",
   "metadata": {},
   "outputs": [],
   "source": []
  }
 ],
 "metadata": {
  "kernelspec": {
   "display_name": "Python 3 (ipykernel)",
   "language": "python",
   "name": "python3"
  },
  "language_info": {
   "codemirror_mode": {
    "name": "ipython",
    "version": 3
   },
   "file_extension": ".py",
   "mimetype": "text/x-python",
   "name": "python",
   "nbconvert_exporter": "python",
   "pygments_lexer": "ipython3",
   "version": "3.12.9"
  }
 },
 "nbformat": 4,
 "nbformat_minor": 5
}

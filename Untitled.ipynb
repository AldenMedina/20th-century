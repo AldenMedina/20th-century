{
 "cells": [
  {
   "cell_type": "code",
   "execution_count": 3,
   "id": "3436f54d-5511-4eb2-8a0a-22cf45c92b5d",
   "metadata": {},
   "outputs": [
    {
     "name": "stdout",
     "output_type": "stream",
     "text": [
      "Defaulting to user installation because normal site-packages is not writeable\n",
      "Collecting nltk\n",
      "  Using cached nltk-3.9.1-py3-none-any.whl.metadata (2.9 kB)\n",
      "Collecting click (from nltk)\n",
      "  Using cached click-8.1.8-py3-none-any.whl.metadata (2.3 kB)\n",
      "Collecting joblib (from nltk)\n",
      "  Using cached joblib-1.4.2-py3-none-any.whl.metadata (5.4 kB)\n",
      "Collecting regex>=2021.8.3 (from nltk)\n",
      "  Downloading regex-2024.11.6-cp38-cp38-macosx_10_9_x86_64.whl.metadata (40 kB)\n",
      "Collecting tqdm (from nltk)\n",
      "  Downloading tqdm-4.67.1-py3-none-any.whl.metadata (57 kB)\n",
      "Using cached nltk-3.9.1-py3-none-any.whl (1.5 MB)\n",
      "Downloading regex-2024.11.6-cp38-cp38-macosx_10_9_x86_64.whl (287 kB)\n",
      "Using cached click-8.1.8-py3-none-any.whl (98 kB)\n",
      "Using cached joblib-1.4.2-py3-none-any.whl (301 kB)\n",
      "Downloading tqdm-4.67.1-py3-none-any.whl (78 kB)\n",
      "Installing collected packages: tqdm, regex, joblib, click, nltk\n",
      "Successfully installed click-8.1.8 joblib-1.4.2 nltk-3.9.1 regex-2024.11.6 tqdm-4.67.1\n"
     ]
    }
   ],
   "source": [
    "!pip install nltk\n"
   ]
  },
  {
   "cell_type": "code",
   "execution_count": 5,
   "id": "51c61355-ed53-4f16-b230-d1a83db7df88",
   "metadata": {},
   "outputs": [
    {
     "name": "stderr",
     "output_type": "stream",
     "text": [
      "[nltk_data] Downloading package punkt to /Users/alden/nltk_data...\n",
      "[nltk_data]   Package punkt is already up-to-date!\n",
      "[nltk_data] Downloading package averaged_perceptron_tagger to\n",
      "[nltk_data]     /Users/alden/nltk_data...\n",
      "[nltk_data]   Package averaged_perceptron_tagger is already up-to-\n",
      "[nltk_data]       date!\n",
      "[nltk_data] Downloading package stopwords to /Users/alden/nltk_data...\n",
      "[nltk_data]   Package stopwords is already up-to-date!\n"
     ]
    },
    {
     "data": {
      "text/plain": [
       "True"
      ]
     },
     "execution_count": 5,
     "metadata": {},
     "output_type": "execute_result"
    }
   ],
   "source": [
    "import nltk\n",
    "nltk.download('punkt')\n",
    "nltk.download('averaged_perceptron_tagger')\n",
    "nltk.download('stopwords')\n"
   ]
  },
  {
   "cell_type": "code",
   "execution_count": 6,
   "id": "ce2c7def-06bc-4ccc-ad2c-88b2fbe4e6d2",
   "metadata": {},
   "outputs": [
    {
     "ename": "ModuleNotFoundError",
     "evalue": "No module named 'matplotlib'",
     "output_type": "error",
     "traceback": [
      "\u001b[0;31m---------------------------------------------------------------------------\u001b[0m",
      "\u001b[0;31mModuleNotFoundError\u001b[0m                       Traceback (most recent call last)",
      "Cell \u001b[0;32mIn[6], line 12\u001b[0m\n\u001b[1;32m     10\u001b[0m \u001b[38;5;28;01mfrom\u001b[39;00m\u001b[38;5;250m \u001b[39m\u001b[38;5;21;01mnltk\u001b[39;00m\u001b[38;5;21;01m.\u001b[39;00m\u001b[38;5;21;01mcorpus\u001b[39;00m\u001b[38;5;250m \u001b[39m\u001b[38;5;28;01mimport\u001b[39;00m stopwords\n\u001b[1;32m     11\u001b[0m \u001b[38;5;28;01mfrom\u001b[39;00m\u001b[38;5;250m \u001b[39m\u001b[38;5;21;01mcollections\u001b[39;00m\u001b[38;5;250m \u001b[39m\u001b[38;5;28;01mimport\u001b[39;00m Counter\n\u001b[0;32m---> 12\u001b[0m \u001b[38;5;28;01mimport\u001b[39;00m\u001b[38;5;250m \u001b[39m\u001b[38;5;21;01mmatplotlib\u001b[39;00m\u001b[38;5;21;01m.\u001b[39;00m\u001b[38;5;21;01mpyplot\u001b[39;00m\u001b[38;5;250m \u001b[39m\u001b[38;5;28;01mas\u001b[39;00m\u001b[38;5;250m \u001b[39m\u001b[38;5;21;01mplt\u001b[39;00m\n\u001b[1;32m     13\u001b[0m \u001b[38;5;28;01mimport\u001b[39;00m\u001b[38;5;250m \u001b[39m\u001b[38;5;21;01mseaborn\u001b[39;00m\u001b[38;5;250m \u001b[39m\u001b[38;5;28;01mas\u001b[39;00m\u001b[38;5;250m \u001b[39m\u001b[38;5;21;01msns\u001b[39;00m\n\u001b[1;32m     15\u001b[0m \u001b[38;5;66;03m# Download NLTK resources\u001b[39;00m\n",
      "\u001b[0;31mModuleNotFoundError\u001b[0m: No module named 'matplotlib'"
     ]
    }
   ],
   "source": [
    "# If not already installed, uncomment the lines below:\n",
    "# !pip install nltk\n",
    "# !pip install pandas\n",
    "# !pip install matplotlib seaborn\n",
    "\n",
    "# --- IMPORTS ---\n",
    "import pandas as pd\n",
    "import nltk\n",
    "from nltk import word_tokenize, pos_tag\n",
    "from nltk.corpus import stopwords\n",
    "from collections import Counter\n",
    "import matplotlib.pyplot as plt\n",
    "import seaborn as sns\n",
    "\n",
    "# Download NLTK resources\n",
    "nltk.download('punkt')\n",
    "nltk.download('averaged_perceptron_tagger')\n",
    "nltk.download('stopwords')\n",
    "\n",
    "# --- LOAD CLEANED EVENT DATA ---\n",
    "df = pd.read_csv(\"20th_century_cleaned_events.csv\")\n",
    "\n",
    "# Combine all events into one string\n",
    "text = \" \".join(df[\"event\"].astype(str))\n",
    "\n",
    "# --- TOKENIZATION ---\n",
    "tokens = word_tokenize(text)\n",
    "\n",
    "# --- REMOVE STOPWORDS & PUNCTUATION ---\n",
    "stop_words = set(stopwords.words(\"english\"))\n",
    "words = [word for word in tokens if word.isalpha() and word.lower() not in stop_words]\n",
    "\n",
    "# --- POS TAGGING ---\n",
    "tagged_words = pos_tag(words)\n",
    "\n",
    "# --- CONVERT TO DATAFRAME FOR ANALYSIS ---\n",
    "df_text = pd.DataFrame(tagged_words, columns=[\"Word\", \"POS\"])\n",
    "df_text[\"POS_category\"] = df_text[\"POS\"].str[:2]  # For grouping\n",
    "\n",
    "# --- MOST COMMON WORDS ---\n",
    "top_words = Counter(words).most_common(15)\n",
    "df_top_words = pd.DataFrame(top_words, columns=[\"Word\", \"Count\"])\n",
    "\n",
    "# Plot common words\n",
    "plt.figure(figsize=(10, 5))\n",
    "sns.barplot(data=df_top_words, x=\"Word\", y=\"Count\", palette=\"viridis\")\n",
    "plt.title(\"Top 15 Most Common Words\")\n",
    "plt.xticks(rotation=45)\n",
    "plt.tight_layout()\n",
    "plt.show()\n",
    "\n",
    "# --- MOST COMMON VERBS ---\n",
    "df_verbs = df_text[df_text[\"POS_category\"] == \"VB\"]\n",
    "top_verbs = df_verbs[\"Word\"].value_counts().nlargest(15).reset_index()\n",
    "top_verbs.columns = [\"Word\", \"Count\"]\n",
    "\n",
    "plt.figure(figsize=(10, 5))\n",
    "sns.barplot(data=top_verbs, x=\"Word\", y=\"Count\", palette=\"magma\")\n",
    "plt.title(\"Top 15 Verbs\")\n",
    "plt.xticks(rotation=45)\n",
    "plt.tight_layout()\n",
    "plt.show()\n",
    "\n",
    "# --- MOST COMMON ADJECTIVES ---\n",
    "df_adjs = df_text[df_text[\"POS_category\"] == \"JJ\"]\n",
    "top_adjs = df_adjs[\"Word\"].value_counts().nlargest(15).reset_index()\n",
    "top_adjs.columns = [\"Word\", \"Count\"]\n",
    "\n",
    "plt.figure(figsize=(10, 5))\n",
    "sns.barplot(data=top_adjs, x=\"Word\", y=\"Count\", palette=\"coolwarm\")\n",
    "plt.title(\"Top 15 Adjectives\")\n",
    "plt.xticks(rotation=45)\n",
    "plt.tight_layout()\n",
    "plt.show()\n",
    "\n",
    "# --- OPTIONAL: SAVE OUTPUTS ---\n",
    "df_text.to_csv(\"20th_century_text_pos_tags.csv\", index=False)\n"
   ]
  },
  {
   "cell_type": "code",
   "execution_count": null,
   "id": "f459411d-c3d6-40a6-aaae-2b75a54f8ce6",
   "metadata": {},
   "outputs": [],
   "source": []
  }
 ],
 "metadata": {
  "kernelspec": {
   "display_name": "Python 3 (ipykernel)",
   "language": "python",
   "name": "python3"
  },
  "language_info": {
   "codemirror_mode": {
    "name": "ipython",
    "version": 3
   },
   "file_extension": ".py",
   "mimetype": "text/x-python",
   "name": "python",
   "nbconvert_exporter": "python",
   "pygments_lexer": "ipython3",
   "version": "3.8.2"
  }
 },
 "nbformat": 4,
 "nbformat_minor": 5
}
